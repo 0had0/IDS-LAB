{
 "cells": [
  {
   "cell_type": "code",
   "execution_count": 1,
   "metadata": {},
   "outputs": [],
   "source": [
    "import glob\n",
    "import os\n",
    "import pandas as pd\n",
    "\n",
    "from sklearn.model_selection import train_test_split\n",
    "\n",
    "from utils import *"
   ]
  },
  {
   "cell_type": "code",
   "execution_count": 3,
   "metadata": {},
   "outputs": [],
   "source": [
    "def preprocess():\n",
    "    \"\"\"Pre-Process all csvs\"\"\"\n",
    "    RAW_PATH = \"../../data/raw\"\n",
    "\n",
    "    all_files = glob.glob(os.path.join(RAW_PATH, \"*.csv\"))\n",
    "    df = pd.concat(\n",
    "        (preprocess_one_file(pd.read_csv(f)) for f in all_files),\n",
    "        ignore_index=True,\n",
    "    )\n",
    "    df.to_csv('../../data/processed/dataset.csv', index=False)\n",
    "    \n",
    "    return df\n",
    "\n",
    "def process(data):\n",
    "    \"\"\"Process data, divide dataset into train & test\"\"\"\n",
    "    data, target = split_out_target(data)\n",
    "    data, target = drop_normals(data, target)\n",
    "    data = replace_nan(data)\n",
    "    assert target[target == \"BENIGN\"].shape[0] == 0\n",
    "\n",
    "    target = encode_classes(target)\n",
    "    X_train, X_test, y_train, y_test = train_test_split(\n",
    "        data.values, target, train_size=0.95, stratify=target, random_state=75\n",
    "    )\n",
    "    del data, target\n",
    "    save_train_data({\"X\": X_train, \"y\": y_train}, f\"../../data/processed/train.pkl\")\n",
    "    save_test_data({\"X\": X_test, \"y\": y_test}, f\"../../data/processed/test.pkl\")\n",
    "\n",
    "    return X_train, X_test, y_train, y_test\n"
   ]
  },
  {
   "cell_type": "code",
   "execution_count": 16,
   "metadata": {},
   "outputs": [
    {
     "name": "stderr",
     "output_type": "stream",
     "text": [
      "/home/hadih/.cache/pypoetry/virtualenvs/fids-rgvgQkLu-py3.11/lib/python3.11/site-packages/sklearn/preprocessing/_label.py:114: DataConversionWarning: A column-vector y was passed when a 1d array was expected. Please change the shape of y to (n_samples, ), for example using ravel().\n",
      "  y = column_or_1d(y, warn=True)\n"
     ]
    }
   ],
   "source": [
    "X_train, X_test, y_train, y_test = process(preprocess())\n",
    "\n",
    "X_train, y_train = drop_normals(pd.DataFrame(X_train), pd.Series(y_train))\n",
    "save_train_data({\"X\": X_train.values, \"y\": y_train.values}, f\"../../data/processed/train-without-normals.pkl\")\n",
    "\n",
    "del X_train, y_train\n",
    "\n",
    "X_test, y_test = drop_normals(pd.DataFrame(X_test), pd.Series(y_test))\n",
    "save_train_data({\"X\": X_test.values, \"y\": y_test.values}, f\"../../data/processed/test-without-normals.pkl\")\n",
    "\n",
    "del X_test, y_test"
   ]
  }
 ],
 "metadata": {
  "kernelspec": {
   "display_name": "fids-rgvgQkLu-py3.11",
   "language": "python",
   "name": "python3"
  },
  "language_info": {
   "codemirror_mode": {
    "name": "ipython",
    "version": 3
   },
   "file_extension": ".py",
   "mimetype": "text/x-python",
   "name": "python",
   "nbconvert_exporter": "python",
   "pygments_lexer": "ipython3",
   "version": "3.11.3"
  },
  "orig_nbformat": 4
 },
 "nbformat": 4,
 "nbformat_minor": 2
}
