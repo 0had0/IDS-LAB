{
 "cells": [
  {
   "cell_type": "code",
   "execution_count": null,
   "metadata": {
    "tags": [
     "parameters"
    ]
   },
   "outputs": [],
   "source": [
    "observations = \"\"\n",
    "y_true = \"\"\n",
    "number_classes = 4"
   ]
  },
  {
   "cell_type": "code",
   "execution_count": null,
   "metadata": {},
   "outputs": [],
   "source": [
    "import joblib\n",
    "observations = joblib.load(observations)\n",
    "y_true =joblib.load(y_true)"
   ]
  },
  {
   "cell_type": "code",
   "execution_count": null,
   "metadata": {},
   "outputs": [],
   "source": [
    "num_clients = None\n",
    "for observation_name in observations.keys():\n",
    "    observation = observations[observation_name]\n",
    "    if num_clients:\n",
    "        assert len(observation) == num_clients\n",
    "    else:\n",
    "        num_clients = len(observation)"
   ]
  },
  {
   "cell_type": "markdown",
   "metadata": {},
   "source": [
    "# Binary Classification per Client"
   ]
  },
  {
   "cell_type": "code",
   "execution_count": null,
   "metadata": {},
   "outputs": [],
   "source": [
    "import pandas as pd\n",
    "import numpy as np\n",
    "from sklearn.metrics import ConfusionMatrixDisplay, accuracy_score, classification_report, confusion_matrix"
   ]
  },
  {
   "cell_type": "code",
   "execution_count": null,
   "metadata": {},
   "outputs": [],
   "source": [
    "splits_labels_distributions = {}\n",
    "split_predictions = {}\n",
    "for split_name in observations.keys():\n",
    "    split_observation = observations[split_name]\n",
    "    clients_counts = []\n",
    "    predictions = []\n",
    "    for client_obeservation in split_observation:\n",
    "        counts = np.zeros(number_classes)\n",
    "        for label, count in zip(client_obeservation[0], client_obeservation[1]):\n",
    "            counts[int(label)] = count\n",
    "            del label, count\n",
    "        clients_counts.append(counts)\n",
    "        predictions.append(client_obeservation[2])\n",
    "        del client_obeservation\n",
    "    \n",
    "    splits_labels_distributions[split_name] = pd.DataFrame(clients_counts, columns=list(range(number_classes))).astype(int)\n",
    "    split_predictions[split_name] = predictions\n",
    "    del predictions, split_name, split_observation, clients_counts"
   ]
  },
  {
   "cell_type": "code",
   "execution_count": null,
   "metadata": {},
   "outputs": [],
   "source": [
    "assert observations.keys() == splits_labels_distributions.keys() == split_predictions.keys()"
   ]
  },
  {
   "cell_type": "code",
   "execution_count": null,
   "metadata": {},
   "outputs": [],
   "source": [
    "acc_scores = {}\n",
    "\n",
    "client_names = [f'client {i + 1}' for i in range(num_clients)]\n",
    "\n",
    "for split_name in observations.keys():\n",
    "    ax = splits_labels_distributions[split_name].plot.barh(title=split_name, ylabel='Clients', figsize=(15, 5), stacked=True)\n",
    "    acc_scores[split_name] = [accuracy_score(y_true, y_pred) for y_pred in split_predictions[split_name]]\n",
    "    print(f\"--------------------------------------------------{split_name}--------------------------------------------------\")\n",
    "    for index, y_pred in enumerate(split_predictions[split_name]):\n",
    "        print(f\"--------------------------------------------------{split_name} (Client {index})--------------------------------------------------\")\n",
    "        disp = ConfusionMatrixDisplay(confusion_matrix=confusion_matrix(y_true, y_pred))\n",
    "        disp.plot()\n",
    "        print(classification_report(y_true, y_pred))\n",
    "\n",
    "acc_scores_df = pd.DataFrame(acc_scores, columns=observations.keys()).T\n",
    "acc_scores_df.columns = client_names\n",
    "acc_scores_df"
   ]
  }
 ],
 "metadata": {
  "kernelspec": {
   "display_name": "fids-rgvgQkLu-py3.11",
   "language": "python",
   "name": "python3"
  },
  "language_info": {
   "codemirror_mode": {
    "name": "ipython",
    "version": 3
   },
   "file_extension": ".py",
   "mimetype": "text/x-python",
   "name": "python",
   "nbconvert_exporter": "python",
   "pygments_lexer": "ipython3",
   "version": "3.11.3"
  },
  "orig_nbformat": 4
 },
 "nbformat": 4,
 "nbformat_minor": 2
}
