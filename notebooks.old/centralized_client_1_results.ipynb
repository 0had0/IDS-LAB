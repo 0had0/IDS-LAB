{
 "cells": [
  {
   "cell_type": "code",
   "execution_count": 1,
   "id": "8f6fd33e",
   "metadata": {
    "execution": {
     "iopub.execute_input": "2023-08-06T19:04:55.594172Z",
     "iopub.status.busy": "2023-08-06T19:04:55.593805Z",
     "iopub.status.idle": "2023-08-06T19:04:55.599493Z",
     "shell.execute_reply": "2023-08-06T19:04:55.598954Z"
    },
    "papermill": {
     "duration": 0.007877,
     "end_time": "2023-08-06T19:04:55.600518",
     "exception": false,
     "start_time": "2023-08-06T19:04:55.592641",
     "status": "completed"
    },
    "tags": [
     "parameters"
    ]
   },
   "outputs": [],
   "source": [
    "test_data_location=''\n",
    "predictions_location=''"
   ]
  },
  {
   "cell_type": "code",
   "execution_count": 2,
   "id": "5ea52c1a",
   "metadata": {
    "execution": {
     "iopub.execute_input": "2023-08-06T19:04:55.602055Z",
     "iopub.status.busy": "2023-08-06T19:04:55.601575Z",
     "iopub.status.idle": "2023-08-06T19:04:55.604394Z",
     "shell.execute_reply": "2023-08-06T19:04:55.603825Z"
    },
    "papermill": {
     "duration": 0.004574,
     "end_time": "2023-08-06T19:04:55.605381",
     "exception": false,
     "start_time": "2023-08-06T19:04:55.600807",
     "status": "completed"
    },
    "tags": [
     "injected-parameters"
    ]
   },
   "outputs": [],
   "source": [
    "# Parameters\n",
    "test_data_location = \"data/processed/test.pkl\"\n",
    "predictions_location = \"data/final/centralized_client_1_predictions.pkl\"\n"
   ]
  },
  {
   "cell_type": "code",
   "execution_count": 3,
   "id": "cb213933",
   "metadata": {
    "execution": {
     "iopub.execute_input": "2023-08-06T19:04:55.606689Z",
     "iopub.status.busy": "2023-08-06T19:04:55.606252Z",
     "iopub.status.idle": "2023-08-06T19:04:55.922677Z",
     "shell.execute_reply": "2023-08-06T19:04:55.921941Z"
    },
    "papermill": {
     "duration": 0.318798,
     "end_time": "2023-08-06T19:04:55.924272",
     "exception": false,
     "start_time": "2023-08-06T19:04:55.605474",
     "status": "completed"
    },
    "tags": []
   },
   "outputs": [],
   "source": [
    "import joblib\n",
    "from sklearn.metrics import confusion_matrix, classification_report, ConfusionMatrixDisplay"
   ]
  },
  {
   "cell_type": "code",
   "execution_count": 4,
   "id": "a129fce7",
   "metadata": {
    "execution": {
     "iopub.execute_input": "2023-08-06T19:04:55.925919Z",
     "iopub.status.busy": "2023-08-06T19:04:55.925555Z",
     "iopub.status.idle": "2023-08-06T19:04:56.137977Z",
     "shell.execute_reply": "2023-08-06T19:04:56.137235Z"
    },
    "papermill": {
     "duration": 0.214903,
     "end_time": "2023-08-06T19:04:56.139505",
     "exception": false,
     "start_time": "2023-08-06T19:04:55.924602",
     "status": "completed"
    },
    "tags": []
   },
   "outputs": [],
   "source": [
    "test = joblib.load(test_data_location)\n",
    "y_true = test['y']\n",
    "del test\n",
    "\n",
    "y_pred = joblib.load(predictions_location)"
   ]
  },
  {
   "cell_type": "code",
   "execution_count": 5,
   "id": "d38ee23e",
   "metadata": {
    "execution": {
     "iopub.execute_input": "2023-08-06T19:04:56.140735Z",
     "iopub.status.busy": "2023-08-06T19:04:56.140565Z",
     "iopub.status.idle": "2023-08-06T19:04:56.233475Z",
     "shell.execute_reply": "2023-08-06T19:04:56.232843Z"
    },
    "papermill": {
     "duration": 0.094739,
     "end_time": "2023-08-06T19:04:56.234528",
     "exception": false,
     "start_time": "2023-08-06T19:04:56.139789",
     "status": "completed"
    },
    "tags": []
   },
   "outputs": [
    {
     "name": "stdout",
     "output_type": "stream",
     "text": [
      "              precision    recall  f1-score   support\n",
      "\n",
      "           0       0.80      1.00      0.89    113566\n",
      "           1       0.00      0.00      0.00        98\n",
      "           2       0.00      0.00      0.00      6401\n",
      "           3       0.00      0.00      0.00       515\n",
      "           4       0.00      0.00      0.00     11506\n",
      "           5       0.00      0.00      0.00       275\n",
      "           6       0.00      0.00      0.00       290\n",
      "           7       0.00      0.00      0.00       397\n",
      "           9       0.00      0.00      0.00         2\n",
      "          10       0.00      0.00      0.00      7940\n",
      "          11       0.00      0.00      0.00       295\n",
      "          12       0.00      0.00      0.00        75\n",
      "          13       0.00      0.00      0.00         1\n",
      "          14       0.00      0.00      0.00        33\n",
      "\n",
      "    accuracy                           0.80    141394\n",
      "   macro avg       0.06      0.07      0.06    141394\n",
      "weighted avg       0.65      0.80      0.72    141394\n",
      "\n"
     ]
    },
    {
     "name": "stderr",
     "output_type": "stream",
     "text": [
      "/home/hadih/.cache/pypoetry/virtualenvs/fids-rgvgQkLu-py3.11/lib/python3.11/site-packages/sklearn/metrics/_classification.py:1469: UndefinedMetricWarning: Precision and F-score are ill-defined and being set to 0.0 in labels with no predicted samples. Use `zero_division` parameter to control this behavior.\n",
      "  _warn_prf(average, modifier, msg_start, len(result))\n",
      "/home/hadih/.cache/pypoetry/virtualenvs/fids-rgvgQkLu-py3.11/lib/python3.11/site-packages/sklearn/metrics/_classification.py:1469: UndefinedMetricWarning: Precision and F-score are ill-defined and being set to 0.0 in labels with no predicted samples. Use `zero_division` parameter to control this behavior.\n",
      "  _warn_prf(average, modifier, msg_start, len(result))\n",
      "/home/hadih/.cache/pypoetry/virtualenvs/fids-rgvgQkLu-py3.11/lib/python3.11/site-packages/sklearn/metrics/_classification.py:1469: UndefinedMetricWarning: Precision and F-score are ill-defined and being set to 0.0 in labels with no predicted samples. Use `zero_division` parameter to control this behavior.\n",
      "  _warn_prf(average, modifier, msg_start, len(result))\n"
     ]
    }
   ],
   "source": [
    "print(classification_report(y_true.argmax(axis=1), y_pred.argmax(axis=1)))"
   ]
  },
  {
   "cell_type": "code",
   "execution_count": 6,
   "id": "9f00dfb3",
   "metadata": {
    "execution": {
     "iopub.execute_input": "2023-08-06T19:04:56.235504Z",
     "iopub.status.busy": "2023-08-06T19:04:56.235330Z",
     "iopub.status.idle": "2023-08-06T19:04:56.825195Z",
     "shell.execute_reply": "2023-08-06T19:04:56.824579Z"
    },
    "papermill": {
     "duration": 0.591652,
     "end_time": "2023-08-06T19:04:56.826270",
     "exception": false,
     "start_time": "2023-08-06T19:04:56.234618",
     "status": "completed"
    },
    "tags": []
   },
   "outputs": [
    {
     "data": {
      "text/plain": [
       "<sklearn.metrics._plot.confusion_matrix.ConfusionMatrixDisplay at 0x7f18e4ca54d0>"
      ]
     },
     "execution_count": 6,
     "metadata": {},
     "output_type": "execute_result"
    },
    {
     "data": {
      "image/png": "[encoded data removed]",
      "text/plain": [
       "<Figure size 640x480 with 2 Axes>"
      ]
     },
     "metadata": {},
     "output_type": "display_data"
    }
   ],
   "source": [
    "cm = confusion_matrix(y_true.argmax(axis=1), y_pred.argmax(axis=1))\n",
    "disp = ConfusionMatrixDisplay(cm)\n",
    "disp.plot()"
   ]
  }
 ],
 "metadata": {
  "hide_input": false,
  "kernelspec": {
   "display_name": "test-data-science-template-9SsNPGGj-py3.9",
   "language": "python",
   "name": "python3"
  },
  "language_info": {
   "codemirror_mode": {
    "name": "ipython",
    "version": 3
   },
   "file_extension": ".py",
   "mimetype": "text/x-python",
   "name": "python",
   "nbconvert_exporter": "python",
   "pygments_lexer": "ipython3",
   "version": "3.11.3"
  },
  "papermill": {
   "default_parameters": {},
   "duration": 2.309219,
   "end_time": "2023-08-06T19:04:57.243394",
   "environment_variables": {},
   "exception": null,
   "input_path": "notebooks/templates/analyze_results.ipynb",
   "output_path": null,
   "parameters": {
    "predictions_location": "data/final/centralized_client_1_predictions.pkl",
    "test_data_location": "data/processed/test.pkl"
   },
   "start_time": "2023-08-06T19:04:54.934175",
   "version": "2.4.0"
  },
  "toc": {
   "base_numbering": 1,
   "nav_menu": {},
   "number_sections": true,
   "sideBar": true,
   "skip_h1_title": false,
   "title_cell": "Table of Contents",
   "title_sidebar": "Contents",
   "toc_cell": false,
   "toc_position": {},
   "toc_section_display": true,
   "toc_window_display": false
  },
  "vscode": {
   "interpreter": {
    "hash": "1d1fba17d7ad6092d8d311552813da9e34085534a7d25de0383e44565bbb3ff8"
   }
  }
 },
 "nbformat": 4,
 "nbformat_minor": 5
}
